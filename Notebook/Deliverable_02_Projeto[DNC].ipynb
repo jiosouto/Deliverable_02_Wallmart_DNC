{
  "cells": [
    {
      "cell_type": "markdown",
      "metadata": {
        "id": "8ayfY8NQoTjm"
      },
      "source": [
        "# Ideia do Projeto Slot 4 - Wallmart\n",
        "\n",
        "Case: Você foi contratado pelo Wallmart para fazer um levantamento do faturamento das lojas nos USA e apontar qual loja seria melhor para expandir seu tamanho. É preciso analisar as vendas semanais de cada loja, calcular algumas informações importantes que serão perguntadas e ao final de tudo, indicar em qual loja deva ser investida.\n",
        "\n",
        "# Sobre o Wallmart \n",
        "[Walmart, Inc.](https://pt.wikipedia.org/wiki/Walmart), é uma multinacional estadunidense de lojas de departamento. A companhia foi fundada por Sam Walton em 1962, incorporada em 31 de outubro de 1969 e feita capital aberto na New York Stock Exchange, em 1972. No ano de 2021, obteve um um lucro de $13.51 Bilhões.\n",
        "\n",
        "# O Dataset\n",
        "\n",
        "Sendo uma das principais lojas de varejo do mundo, os dados contemplam as vendas semanais de 45 lojas espalhadas pelos Estados Unidos. O Walmart realiza vários eventos promocionais de descontos ao longo do ano. Essas remarcações precedem feriados importantes, os quatro maiores de todos, que são o Super Bowl, o Dia do Trabalho, o Dia de Ação de Graças e o Natal. As semanas que incluem esses feriados têm um peso maior.\n",
        "\n",
        "Sobre o [Dataset do Wallmart](https://www.kaggle.com/yasserh/walmart-dataset)\n",
        "\n",
        "Os dados apresentam as vendas semanais de 05/02/10 até 01/11/12 em 45 lojas varejistas da rede Wallmart e também algumas métricas econômicas e meteriológicas por semana. A descrição destas características estão abaixo:\n",
        "\n",
        "Variável | Descrição\n",
        "--- | ---\n",
        "Store | Número da Loja\n",
        "Date | Semana de venda\n",
        "Weekly_Sales | Venda naquela semana\n",
        "Holiday_Flag | Flag se é ou não semana com feriado (1 – Holiday week 0 – Non-holiday week)\n",
        "Temperature | Temperatuda do dia em ºF \n",
        "Fuel_Price | Preço do combustível na região da loja\n",
        "CPI | Índice de preços ao consumidor \n",
        "Unemployment | Taxa de desemprego\n",
        "\n",
        "Variável | Descrição\n",
        "--- | ---\n",
        "Holiday Events | Semanas\n",
        "Super Bowl |  12-Feb-10, 11-Feb-11, 10-Feb-12\n",
        "Labour Day | 10-Sep-10, 9-Sep-11, 7-Sep-12\n",
        "Thanksgiving |  26-Nov-10, 25-Nov-11, 23-Nov-12\n",
        "Christmas |  31-Dec-10, 30-Dec-11, 28-Dec-12\n",
        "\n",
        "# Perguntas importantes a serem respondidas\n",
        "\n",
        "1. Qual o preço médio de venda semanal por loja?\n",
        "2. Qual o atributo que tem maior correlação (positiva ou negativa) com o número de vendas? (E que faça sentido)\n",
        "3. Da loja com maior venda acumulada (soma de vendas de todo o período), quantas semanas do ano ele ultrapassou a média do período?\n",
        "4. Faça um gráfico com as vendas máximas, mínimas e médias de todas as lojas ao longo do tempo. Ressalte de alguma forma, o período de feriados mencionados acima.\n",
        "5. Pensando na expansão de uma das lojas, que loja você escolheria e o por que?  "
      ]
    },
    {
      "attachments": {},
      "cell_type": "markdown",
      "metadata": {
        "id": "VvnqGlyTWgW8"
      },
      "source": [
        "## **0.0 Bibliotecas utilizadas**"
      ]
    },
    {
      "cell_type": "code",
      "execution_count": 11,
      "metadata": {
        "id": "dZHFE1LhZ9Nh"
      },
      "outputs": [],
      "source": [
        "import numpy as np\n",
        "import pandas as pd\n",
        "\n",
        "import seaborn as sns\n",
        "import matplotlib.pyplot as plt"
      ]
    },
    {
      "attachments": {},
      "cell_type": "markdown",
      "metadata": {},
      "source": [
        "### 0.1 Funções auxiliares"
      ]
    },
    {
      "cell_type": "code",
      "execution_count": 12,
      "metadata": {},
      "outputs": [],
      "source": [
        "def personal_settings():\n",
        "    \n",
        "    pd.set_option('display.float_format', '{:.2f}'.format)"
      ]
    },
    {
      "cell_type": "code",
      "execution_count": 13,
      "metadata": {},
      "outputs": [],
      "source": [
        "personal_settings()"
      ]
    },
    {
      "attachments": {},
      "cell_type": "markdown",
      "metadata": {
        "id": "t2HLHFA5lsgr"
      },
      "source": [
        "## **1.0 Descrição dos dados**"
      ]
    },
    {
      "attachments": {},
      "cell_type": "markdown",
      "metadata": {},
      "source": [
        "### 1.1 Importação dos dados"
      ]
    },
    {
      "cell_type": "code",
      "execution_count": 14,
      "metadata": {
        "colab": {
          "base_uri": "https://localhost:8080/",
          "height": 224
        },
        "id": "kWWjLyBpaezS",
        "outputId": "04bc87e4-b25e-410c-e0b6-1d5dcc6b67cb"
      },
      "outputs": [
        {
          "name": "stderr",
          "output_type": "stream",
          "text": [
            "C:\\Users\\Public\\Documents\\Wondershare\\CreatorTemp\\ipykernel_9420\\700833101.py:9: UserWarning: Parsing dates in DD/MM/YYYY format when dayfirst=False (the default) was specified. This may lead to inconsistently parsed dates! Specify a format to ensure consistent parsing.\n",
            "  df = pd.read_csv(path, parse_dates=['Date'])\n"
          ]
        }
      ],
      "source": [
        "# Leitura Local\n",
        "#df = pd.read_csv('Walmart.csv', parse_dates=['Date'])\n",
        "#print(df.shape)\n",
        "#df.head()\n",
        "\n",
        "# Leitura Cloud\n",
        "URL = \"https://drive.google.com/file/d/1DvzVJYA187Vv4_0b0qJnpaheqV-1784j/view?usp=sharing\"\n",
        "path = \"https://drive.google.com/uc?export=download&id=\"+URL.split(\"/\")[-2]\n",
        "df = pd.read_csv(path, parse_dates=['Date'])"
      ]
    },
    {
      "cell_type": "code",
      "execution_count": 15,
      "metadata": {},
      "outputs": [
        {
          "data": {
            "text/html": [
              "<div>\n",
              "<style scoped>\n",
              "    .dataframe tbody tr th:only-of-type {\n",
              "        vertical-align: middle;\n",
              "    }\n",
              "\n",
              "    .dataframe tbody tr th {\n",
              "        vertical-align: top;\n",
              "    }\n",
              "\n",
              "    .dataframe thead th {\n",
              "        text-align: right;\n",
              "    }\n",
              "</style>\n",
              "<table border=\"1\" class=\"dataframe\">\n",
              "  <thead>\n",
              "    <tr style=\"text-align: right;\">\n",
              "      <th></th>\n",
              "      <th>Store</th>\n",
              "      <th>Date</th>\n",
              "      <th>Weekly_Sales</th>\n",
              "      <th>Holiday_Flag</th>\n",
              "      <th>Temperature</th>\n",
              "      <th>Fuel_Price</th>\n",
              "      <th>CPI</th>\n",
              "      <th>Unemployment</th>\n",
              "    </tr>\n",
              "  </thead>\n",
              "  <tbody>\n",
              "    <tr>\n",
              "      <th>0</th>\n",
              "      <td>1</td>\n",
              "      <td>2010-05-02</td>\n",
              "      <td>1643690.90</td>\n",
              "      <td>0</td>\n",
              "      <td>42.31</td>\n",
              "      <td>2.57</td>\n",
              "      <td>211.10</td>\n",
              "      <td>8.11</td>\n",
              "    </tr>\n",
              "    <tr>\n",
              "      <th>1</th>\n",
              "      <td>1</td>\n",
              "      <td>2010-12-02</td>\n",
              "      <td>1641957.44</td>\n",
              "      <td>1</td>\n",
              "      <td>38.51</td>\n",
              "      <td>2.55</td>\n",
              "      <td>211.24</td>\n",
              "      <td>8.11</td>\n",
              "    </tr>\n",
              "    <tr>\n",
              "      <th>2</th>\n",
              "      <td>1</td>\n",
              "      <td>2010-02-19</td>\n",
              "      <td>1611968.17</td>\n",
              "      <td>0</td>\n",
              "      <td>39.93</td>\n",
              "      <td>2.51</td>\n",
              "      <td>211.29</td>\n",
              "      <td>8.11</td>\n",
              "    </tr>\n",
              "    <tr>\n",
              "      <th>3</th>\n",
              "      <td>1</td>\n",
              "      <td>2010-02-26</td>\n",
              "      <td>1409727.59</td>\n",
              "      <td>0</td>\n",
              "      <td>46.63</td>\n",
              "      <td>2.56</td>\n",
              "      <td>211.32</td>\n",
              "      <td>8.11</td>\n",
              "    </tr>\n",
              "    <tr>\n",
              "      <th>4</th>\n",
              "      <td>1</td>\n",
              "      <td>2010-05-03</td>\n",
              "      <td>1554806.68</td>\n",
              "      <td>0</td>\n",
              "      <td>46.50</td>\n",
              "      <td>2.62</td>\n",
              "      <td>211.35</td>\n",
              "      <td>8.11</td>\n",
              "    </tr>\n",
              "  </tbody>\n",
              "</table>\n",
              "</div>"
            ],
            "text/plain": [
              "   Store       Date  Weekly_Sales  Holiday_Flag  Temperature  Fuel_Price  \\\n",
              "0      1 2010-05-02    1643690.90             0        42.31        2.57   \n",
              "1      1 2010-12-02    1641957.44             1        38.51        2.55   \n",
              "2      1 2010-02-19    1611968.17             0        39.93        2.51   \n",
              "3      1 2010-02-26    1409727.59             0        46.63        2.56   \n",
              "4      1 2010-05-03    1554806.68             0        46.50        2.62   \n",
              "\n",
              "     CPI  Unemployment  \n",
              "0 211.10          8.11  \n",
              "1 211.24          8.11  \n",
              "2 211.29          8.11  \n",
              "3 211.32          8.11  \n",
              "4 211.35          8.11  "
            ]
          },
          "execution_count": 15,
          "metadata": {},
          "output_type": "execute_result"
        }
      ],
      "source": [
        "# Verificar as cinco primeiras linhas\n",
        "df.head()"
      ]
    },
    {
      "cell_type": "code",
      "execution_count": 16,
      "metadata": {},
      "outputs": [
        {
          "data": {
            "text/html": [
              "<div>\n",
              "<style scoped>\n",
              "    .dataframe tbody tr th:only-of-type {\n",
              "        vertical-align: middle;\n",
              "    }\n",
              "\n",
              "    .dataframe tbody tr th {\n",
              "        vertical-align: top;\n",
              "    }\n",
              "\n",
              "    .dataframe thead th {\n",
              "        text-align: right;\n",
              "    }\n",
              "</style>\n",
              "<table border=\"1\" class=\"dataframe\">\n",
              "  <thead>\n",
              "    <tr style=\"text-align: right;\">\n",
              "      <th></th>\n",
              "      <th>Store</th>\n",
              "      <th>Date</th>\n",
              "      <th>Weekly_Sales</th>\n",
              "      <th>Holiday_Flag</th>\n",
              "      <th>Temperature</th>\n",
              "      <th>Fuel_Price</th>\n",
              "      <th>CPI</th>\n",
              "      <th>Unemployment</th>\n",
              "    </tr>\n",
              "  </thead>\n",
              "  <tbody>\n",
              "    <tr>\n",
              "      <th>6430</th>\n",
              "      <td>45</td>\n",
              "      <td>2012-09-28</td>\n",
              "      <td>713173.95</td>\n",
              "      <td>0</td>\n",
              "      <td>64.88</td>\n",
              "      <td>4.00</td>\n",
              "      <td>192.01</td>\n",
              "      <td>8.68</td>\n",
              "    </tr>\n",
              "    <tr>\n",
              "      <th>6431</th>\n",
              "      <td>45</td>\n",
              "      <td>2012-05-10</td>\n",
              "      <td>733455.07</td>\n",
              "      <td>0</td>\n",
              "      <td>64.89</td>\n",
              "      <td>3.98</td>\n",
              "      <td>192.17</td>\n",
              "      <td>8.67</td>\n",
              "    </tr>\n",
              "    <tr>\n",
              "      <th>6432</th>\n",
              "      <td>45</td>\n",
              "      <td>2012-12-10</td>\n",
              "      <td>734464.36</td>\n",
              "      <td>0</td>\n",
              "      <td>54.47</td>\n",
              "      <td>4.00</td>\n",
              "      <td>192.33</td>\n",
              "      <td>8.67</td>\n",
              "    </tr>\n",
              "    <tr>\n",
              "      <th>6433</th>\n",
              "      <td>45</td>\n",
              "      <td>2012-10-19</td>\n",
              "      <td>718125.53</td>\n",
              "      <td>0</td>\n",
              "      <td>56.47</td>\n",
              "      <td>3.97</td>\n",
              "      <td>192.33</td>\n",
              "      <td>8.67</td>\n",
              "    </tr>\n",
              "    <tr>\n",
              "      <th>6434</th>\n",
              "      <td>45</td>\n",
              "      <td>2012-10-26</td>\n",
              "      <td>760281.43</td>\n",
              "      <td>0</td>\n",
              "      <td>58.85</td>\n",
              "      <td>3.88</td>\n",
              "      <td>192.31</td>\n",
              "      <td>8.67</td>\n",
              "    </tr>\n",
              "  </tbody>\n",
              "</table>\n",
              "</div>"
            ],
            "text/plain": [
              "      Store       Date  Weekly_Sales  Holiday_Flag  Temperature  Fuel_Price  \\\n",
              "6430     45 2012-09-28     713173.95             0        64.88        4.00   \n",
              "6431     45 2012-05-10     733455.07             0        64.89        3.98   \n",
              "6432     45 2012-12-10     734464.36             0        54.47        4.00   \n",
              "6433     45 2012-10-19     718125.53             0        56.47        3.97   \n",
              "6434     45 2012-10-26     760281.43             0        58.85        3.88   \n",
              "\n",
              "        CPI  Unemployment  \n",
              "6430 192.01          8.68  \n",
              "6431 192.17          8.67  \n",
              "6432 192.33          8.67  \n",
              "6433 192.33          8.67  \n",
              "6434 192.31          8.67  "
            ]
          },
          "execution_count": 16,
          "metadata": {},
          "output_type": "execute_result"
        }
      ],
      "source": [
        "# Verificar as cinco últimas linhas\n",
        "df.tail()"
      ]
    },
    {
      "attachments": {},
      "cell_type": "markdown",
      "metadata": {},
      "source": [
        "### 1.2 Dimensão dos dados"
      ]
    },
    {
      "cell_type": "code",
      "execution_count": 17,
      "metadata": {},
      "outputs": [
        {
          "name": "stdout",
          "output_type": "stream",
          "text": [
            "6435 Linhas\n",
            "8 Colunas\n"
          ]
        }
      ],
      "source": [
        "print(df.shape[0], 'Linhas')\n",
        "print(df.shape[1], 'Colunas')"
      ]
    },
    {
      "attachments": {},
      "cell_type": "markdown",
      "metadata": {},
      "source": [
        "### 1.3 Tipos de dados"
      ]
    },
    {
      "cell_type": "code",
      "execution_count": 18,
      "metadata": {
        "colab": {
          "base_uri": "https://localhost:8080/"
        },
        "id": "Sw5h8VXLXGEX",
        "outputId": "a30582b2-d165-4d30-e10e-3d555fc8a08d"
      },
      "outputs": [
        {
          "data": {
            "text/html": [
              "<div>\n",
              "<style scoped>\n",
              "    .dataframe tbody tr th:only-of-type {\n",
              "        vertical-align: middle;\n",
              "    }\n",
              "\n",
              "    .dataframe tbody tr th {\n",
              "        vertical-align: top;\n",
              "    }\n",
              "\n",
              "    .dataframe thead th {\n",
              "        text-align: right;\n",
              "    }\n",
              "</style>\n",
              "<table border=\"1\" class=\"dataframe\">\n",
              "  <thead>\n",
              "    <tr style=\"text-align: right;\">\n",
              "      <th></th>\n",
              "      <th>attributes</th>\n",
              "      <th>dtypes</th>\n",
              "      <th>nunique</th>\n",
              "      <th>sample</th>\n",
              "    </tr>\n",
              "  </thead>\n",
              "  <tbody>\n",
              "    <tr>\n",
              "      <th>0</th>\n",
              "      <td>Store</td>\n",
              "      <td>int64</td>\n",
              "      <td>45</td>\n",
              "      <td>[33, 25]</td>\n",
              "    </tr>\n",
              "    <tr>\n",
              "      <th>1</th>\n",
              "      <td>Date</td>\n",
              "      <td>datetime64[ns]</td>\n",
              "      <td>143</td>\n",
              "      <td>[2012-09-14T00:00:00.000000000, 2012-08-31T00:...</td>\n",
              "    </tr>\n",
              "    <tr>\n",
              "      <th>2</th>\n",
              "      <td>Weekly_Sales</td>\n",
              "      <td>float64</td>\n",
              "      <td>6435</td>\n",
              "      <td>[424956.3, 853073.17]</td>\n",
              "    </tr>\n",
              "    <tr>\n",
              "      <th>3</th>\n",
              "      <td>Holiday_Flag</td>\n",
              "      <td>int64</td>\n",
              "      <td>2</td>\n",
              "      <td>[0, 1]</td>\n",
              "    </tr>\n",
              "    <tr>\n",
              "      <th>4</th>\n",
              "      <td>Temperature</td>\n",
              "      <td>float64</td>\n",
              "      <td>3528</td>\n",
              "      <td>[79.75, 46.85]</td>\n",
              "    </tr>\n",
              "    <tr>\n",
              "      <th>5</th>\n",
              "      <td>Fuel_Price</td>\n",
              "      <td>float64</td>\n",
              "      <td>892</td>\n",
              "      <td>[3.013, 3.043]</td>\n",
              "    </tr>\n",
              "    <tr>\n",
              "      <th>6</th>\n",
              "      <td>CPI</td>\n",
              "      <td>float64</td>\n",
              "      <td>2145</td>\n",
              "      <td>[207.2581929, 190.3284922]</td>\n",
              "    </tr>\n",
              "    <tr>\n",
              "      <th>7</th>\n",
              "      <td>Unemployment</td>\n",
              "      <td>float64</td>\n",
              "      <td>349</td>\n",
              "      <td>[8.257, 8.442]</td>\n",
              "    </tr>\n",
              "  </tbody>\n",
              "</table>\n",
              "</div>"
            ],
            "text/plain": [
              "     attributes          dtypes  nunique  \\\n",
              "0         Store           int64       45   \n",
              "1          Date  datetime64[ns]      143   \n",
              "2  Weekly_Sales         float64     6435   \n",
              "3  Holiday_Flag           int64        2   \n",
              "4   Temperature         float64     3528   \n",
              "5    Fuel_Price         float64      892   \n",
              "6           CPI         float64     2145   \n",
              "7  Unemployment         float64      349   \n",
              "\n",
              "                                              sample  \n",
              "0                                           [33, 25]  \n",
              "1  [2012-09-14T00:00:00.000000000, 2012-08-31T00:...  \n",
              "2                              [424956.3, 853073.17]  \n",
              "3                                             [0, 1]  \n",
              "4                                     [79.75, 46.85]  \n",
              "5                                     [3.013, 3.043]  \n",
              "6                         [207.2581929, 190.3284922]  \n",
              "7                                     [8.257, 8.442]  "
            ]
          },
          "execution_count": 18,
          "metadata": {},
          "output_type": "execute_result"
        }
      ],
      "source": [
        "description = []\n",
        "\n",
        "for i in df.columns:\n",
        "    description.append([\n",
        "        i,\n",
        "        df[i].dtypes,\n",
        "        df[i].nunique(),\n",
        "        df[i].drop_duplicates().sample(2).values\n",
        "    ])\n",
        "\n",
        "pd.DataFrame(data=description, columns=['attributes', 'dtypes', 'nunique', 'sample'])"
      ]
    },
    {
      "attachments": {},
      "cell_type": "markdown",
      "metadata": {},
      "source": [
        "### 1.4 Métricas estatísticas  inicias"
      ]
    },
    {
      "cell_type": "code",
      "execution_count": 19,
      "metadata": {},
      "outputs": [
        {
          "data": {
            "text/html": [
              "<div>\n",
              "<style scoped>\n",
              "    .dataframe tbody tr th:only-of-type {\n",
              "        vertical-align: middle;\n",
              "    }\n",
              "\n",
              "    .dataframe tbody tr th {\n",
              "        vertical-align: top;\n",
              "    }\n",
              "\n",
              "    .dataframe thead th {\n",
              "        text-align: right;\n",
              "    }\n",
              "</style>\n",
              "<table border=\"1\" class=\"dataframe\">\n",
              "  <thead>\n",
              "    <tr style=\"text-align: right;\">\n",
              "      <th></th>\n",
              "      <th>Store</th>\n",
              "      <th>Weekly_Sales</th>\n",
              "      <th>Holiday_Flag</th>\n",
              "      <th>Temperature</th>\n",
              "      <th>Fuel_Price</th>\n",
              "      <th>CPI</th>\n",
              "      <th>Unemployment</th>\n",
              "    </tr>\n",
              "  </thead>\n",
              "  <tbody>\n",
              "    <tr>\n",
              "      <th>count</th>\n",
              "      <td>6435.00</td>\n",
              "      <td>6435.00</td>\n",
              "      <td>6435.00</td>\n",
              "      <td>6435.00</td>\n",
              "      <td>6435.00</td>\n",
              "      <td>6435.00</td>\n",
              "      <td>6435.00</td>\n",
              "    </tr>\n",
              "    <tr>\n",
              "      <th>mean</th>\n",
              "      <td>23.00</td>\n",
              "      <td>1046964.88</td>\n",
              "      <td>0.07</td>\n",
              "      <td>60.66</td>\n",
              "      <td>3.36</td>\n",
              "      <td>171.58</td>\n",
              "      <td>8.00</td>\n",
              "    </tr>\n",
              "    <tr>\n",
              "      <th>std</th>\n",
              "      <td>12.99</td>\n",
              "      <td>564366.62</td>\n",
              "      <td>0.26</td>\n",
              "      <td>18.44</td>\n",
              "      <td>0.46</td>\n",
              "      <td>39.36</td>\n",
              "      <td>1.88</td>\n",
              "    </tr>\n",
              "    <tr>\n",
              "      <th>min</th>\n",
              "      <td>1.00</td>\n",
              "      <td>209986.25</td>\n",
              "      <td>0.00</td>\n",
              "      <td>-2.06</td>\n",
              "      <td>2.47</td>\n",
              "      <td>126.06</td>\n",
              "      <td>3.88</td>\n",
              "    </tr>\n",
              "    <tr>\n",
              "      <th>25%</th>\n",
              "      <td>12.00</td>\n",
              "      <td>553350.10</td>\n",
              "      <td>0.00</td>\n",
              "      <td>47.46</td>\n",
              "      <td>2.93</td>\n",
              "      <td>131.74</td>\n",
              "      <td>6.89</td>\n",
              "    </tr>\n",
              "    <tr>\n",
              "      <th>50%</th>\n",
              "      <td>23.00</td>\n",
              "      <td>960746.04</td>\n",
              "      <td>0.00</td>\n",
              "      <td>62.67</td>\n",
              "      <td>3.44</td>\n",
              "      <td>182.62</td>\n",
              "      <td>7.87</td>\n",
              "    </tr>\n",
              "    <tr>\n",
              "      <th>75%</th>\n",
              "      <td>34.00</td>\n",
              "      <td>1420158.66</td>\n",
              "      <td>0.00</td>\n",
              "      <td>74.94</td>\n",
              "      <td>3.73</td>\n",
              "      <td>212.74</td>\n",
              "      <td>8.62</td>\n",
              "    </tr>\n",
              "    <tr>\n",
              "      <th>max</th>\n",
              "      <td>45.00</td>\n",
              "      <td>3818686.45</td>\n",
              "      <td>1.00</td>\n",
              "      <td>100.14</td>\n",
              "      <td>4.47</td>\n",
              "      <td>227.23</td>\n",
              "      <td>14.31</td>\n",
              "    </tr>\n",
              "  </tbody>\n",
              "</table>\n",
              "</div>"
            ],
            "text/plain": [
              "        Store  Weekly_Sales  Holiday_Flag  Temperature  Fuel_Price     CPI  \\\n",
              "count 6435.00       6435.00       6435.00      6435.00     6435.00 6435.00   \n",
              "mean    23.00    1046964.88          0.07        60.66        3.36  171.58   \n",
              "std     12.99     564366.62          0.26        18.44        0.46   39.36   \n",
              "min      1.00     209986.25          0.00        -2.06        2.47  126.06   \n",
              "25%     12.00     553350.10          0.00        47.46        2.93  131.74   \n",
              "50%     23.00     960746.04          0.00        62.67        3.44  182.62   \n",
              "75%     34.00    1420158.66          0.00        74.94        3.73  212.74   \n",
              "max     45.00    3818686.45          1.00       100.14        4.47  227.23   \n",
              "\n",
              "       Unemployment  \n",
              "count       6435.00  \n",
              "mean           8.00  \n",
              "std            1.88  \n",
              "min            3.88  \n",
              "25%            6.89  \n",
              "50%            7.87  \n",
              "75%            8.62  \n",
              "max           14.31  "
            ]
          },
          "execution_count": 19,
          "metadata": {},
          "output_type": "execute_result"
        }
      ],
      "source": [
        "df.describe()"
      ]
    },
    {
      "attachments": {},
      "cell_type": "markdown",
      "metadata": {},
      "source": [
        "## **2.0 Limpeza de dados (Parte 01)**"
      ]
    },
    {
      "attachments": {},
      "cell_type": "markdown",
      "metadata": {},
      "source": [
        "### 2.1 Identificando valores ausentes"
      ]
    },
    {
      "cell_type": "code",
      "execution_count": 20,
      "metadata": {},
      "outputs": [
        {
          "data": {
            "text/html": [
              "<div>\n",
              "<style scoped>\n",
              "    .dataframe tbody tr th:only-of-type {\n",
              "        vertical-align: middle;\n",
              "    }\n",
              "\n",
              "    .dataframe tbody tr th {\n",
              "        vertical-align: top;\n",
              "    }\n",
              "\n",
              "    .dataframe thead th {\n",
              "        text-align: right;\n",
              "    }\n",
              "</style>\n",
              "<table border=\"1\" class=\"dataframe\">\n",
              "  <thead>\n",
              "    <tr style=\"text-align: right;\">\n",
              "      <th></th>\n",
              "      <th>attributes</th>\n",
              "      <th>null</th>\n",
              "      <th>%null</th>\n",
              "    </tr>\n",
              "  </thead>\n",
              "  <tbody>\n",
              "    <tr>\n",
              "      <th>0</th>\n",
              "      <td>Store</td>\n",
              "      <td>0</td>\n",
              "      <td>0</td>\n",
              "    </tr>\n",
              "    <tr>\n",
              "      <th>1</th>\n",
              "      <td>Date</td>\n",
              "      <td>0</td>\n",
              "      <td>0</td>\n",
              "    </tr>\n",
              "    <tr>\n",
              "      <th>2</th>\n",
              "      <td>Weekly_Sales</td>\n",
              "      <td>0</td>\n",
              "      <td>0</td>\n",
              "    </tr>\n",
              "    <tr>\n",
              "      <th>3</th>\n",
              "      <td>Holiday_Flag</td>\n",
              "      <td>0</td>\n",
              "      <td>0</td>\n",
              "    </tr>\n",
              "    <tr>\n",
              "      <th>4</th>\n",
              "      <td>Temperature</td>\n",
              "      <td>0</td>\n",
              "      <td>0</td>\n",
              "    </tr>\n",
              "    <tr>\n",
              "      <th>5</th>\n",
              "      <td>Fuel_Price</td>\n",
              "      <td>0</td>\n",
              "      <td>0</td>\n",
              "    </tr>\n",
              "    <tr>\n",
              "      <th>6</th>\n",
              "      <td>CPI</td>\n",
              "      <td>0</td>\n",
              "      <td>0</td>\n",
              "    </tr>\n",
              "    <tr>\n",
              "      <th>7</th>\n",
              "      <td>Unemployment</td>\n",
              "      <td>0</td>\n",
              "      <td>0</td>\n",
              "    </tr>\n",
              "  </tbody>\n",
              "</table>\n",
              "</div>"
            ],
            "text/plain": [
              "     attributes  null  %null\n",
              "0         Store     0      0\n",
              "1          Date     0      0\n",
              "2  Weekly_Sales     0      0\n",
              "3  Holiday_Flag     0      0\n",
              "4   Temperature     0      0\n",
              "5    Fuel_Price     0      0\n",
              "6           CPI     0      0\n",
              "7  Unemployment     0      0"
            ]
          },
          "execution_count": 20,
          "metadata": {},
          "output_type": "execute_result"
        }
      ],
      "source": [
        "description = []\n",
        "for i in df.columns:\n",
        "    description.append([\n",
        "        i,\n",
        "        df[i].isna().sum(),\n",
        "        round((df[i].isna().sum()/len(df))*100)\n",
        "    ])\n",
        "\n",
        "pd.DataFrame(data=description, columns=['attributes','null', '%null'])\n",
        "\n",
        "#se a soma de todos for 0 é um excelente resultado e a base não precisa ser tratada"
      ]
    },
    {
      "attachments": {},
      "cell_type": "markdown",
      "metadata": {},
      "source": [
        "### 2.2 Identificando duplicadas"
      ]
    },
    {
      "cell_type": "code",
      "execution_count": 21,
      "metadata": {
        "colab": {
          "base_uri": "https://localhost:8080/"
        },
        "id": "UC9L4hYOYEFF",
        "outputId": "18be22e5-424a-4721-aa0b-5d1dcd1c42b2"
      },
      "outputs": [
        {
          "data": {
            "text/plain": [
              "False"
            ]
          },
          "execution_count": 21,
          "metadata": {},
          "output_type": "execute_result"
        }
      ],
      "source": [
        "# verificar duplicados\n",
        "df.duplicated().any()"
      ]
    },
    {
      "cell_type": "code",
      "execution_count": 22,
      "metadata": {
        "colab": {
          "base_uri": "https://localhost:8080/"
        },
        "id": "SrJy6dSjYK-u",
        "outputId": "40a6b99a-17f7-48dd-b48c-d281d1b7f40b"
      },
      "outputs": [
        {
          "data": {
            "text/plain": [
              "False"
            ]
          },
          "execution_count": 22,
          "metadata": {},
          "output_type": "execute_result"
        }
      ],
      "source": [
        "# verificar missing values\n",
        "df.isna().sum().any()"
      ]
    }
  ],
  "metadata": {
    "colab": {
      "provenance": [],
      "toc_visible": true
    },
    "kernelspec": {
      "display_name": "Python 3",
      "language": "python",
      "name": "python3"
    },
    "language_info": {
      "codemirror_mode": {
        "name": "ipython",
        "version": 3
      },
      "file_extension": ".py",
      "mimetype": "text/x-python",
      "name": "python",
      "nbconvert_exporter": "python",
      "pygments_lexer": "ipython3",
      "version": "3.11.0"
    },
    "vscode": {
      "interpreter": {
        "hash": "460ee6b775696f61ce32765c718e08d6160b3b8c1c7be129c741e8824c108cef"
      }
    }
  },
  "nbformat": 4,
  "nbformat_minor": 0
}
